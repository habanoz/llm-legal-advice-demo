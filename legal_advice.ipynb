{
 "cells": [
  {
   "cell_type": "code",
   "execution_count": null,
   "id": "60ab0710-d1e3-41b4-b39b-27de74f4513e",
   "metadata": {},
   "outputs": [],
   "source": [
    "!pip install langchain\n",
    "!pip install unstructured\n",
    "!pip install pdf2image\n",
    "!pip install chromadb\n",
    "!pip install openai\n",
    "!pip install tiktoken"
   ]
  },
  {
   "cell_type": "code",
   "execution_count": 107,
   "id": "afcae2be-25dc-4cf2-b555-5de2251b42a9",
   "metadata": {},
   "outputs": [],
   "source": [
    "import langchain.document_loaders as loaders\n",
    "import matplotlib.pyplot as plt\n",
    "from langchain.text_splitter import RecursiveCharacterTextSplitter\n",
    "import os\n",
    "\n",
    "from langchain.embeddings.openai import OpenAIEmbeddings\n",
    "from langchain.text_splitter import CharacterTextSplitter\n",
    "from langchain.vectorstores import Chroma\n",
    "from langchain.document_loaders import TextLoader\n",
    "from langchain.chains import RetrievalQA\n",
    "from langchain.llms import OpenAI"
   ]
  },
  {
   "cell_type": "markdown",
   "id": "63ce8e88-5998-4653-8ff8-032943435500",
   "metadata": {},
   "source": [
    "## Provide OpenAI Api Key"
   ]
  },
  {
   "cell_type": "code",
   "execution_count": 145,
   "id": "63ab9eb2-e2f7-4ee5-be58-2809d88e4f36",
   "metadata": {},
   "outputs": [],
   "source": [
    "os.environ[\"OPENAI_API_KEY\"] = ## YOUR OpenAI API Key Here"
   ]
  },
  {
   "cell_type": "markdown",
   "id": "fd366344-2cf4-483e-891a-9f82dcb5ede4",
   "metadata": {},
   "source": [
    "## Load Source Documents"
   ]
  },
  {
   "cell_type": "code",
   "execution_count": 17,
   "id": "a1cb4121-3e12-457e-9cc6-e75a3ab20cd6",
   "metadata": {},
   "outputs": [],
   "source": [
    "# load data\n",
    "files = loaders.DirectoryLoader(\"./kararlar/\", glob=\"*.txt\").load()"
   ]
  },
  {
   "cell_type": "code",
   "execution_count": 48,
   "id": "148d7a4b-9d5c-4b81-a8a8-51bfea601d6f",
   "metadata": {},
   "outputs": [
    {
     "data": {
      "image/png": "[encoded data removed]",
      "text/plain": [
       "<Figure size 1440x432 with 1 Axes>"
      ]
     },
     "metadata": {
      "needs_background": "light"
     },
     "output_type": "display_data"
    }
   ],
   "source": [
    "plt.figure(figsize=(20,6))\n",
    "plt.hist([len(f.page_content) for f in files ], bins=100)\n",
    "plt.show()  "
   ]
  },
  {
   "cell_type": "code",
   "execution_count": 49,
   "id": "58879d68-5f12-4dfd-a5e6-45b97668a7ba",
   "metadata": {},
   "outputs": [],
   "source": [
    "text_splitter = RecursiveCharacterTextSplitter(\n",
    "    # Set a really small chunk size, just to show.\n",
    "    chunk_size = 2000,\n",
    "    chunk_overlap  = 100,\n",
    "    length_function = len,\n",
    ")"
   ]
  },
  {
   "cell_type": "code",
   "execution_count": 50,
   "id": "f42f5622-e73c-4ac9-a949-0c8cac520fce",
   "metadata": {},
   "outputs": [],
   "source": [
    "texts = text_splitter.create_documents([f.page_content for f in files])"
   ]
  },
  {
   "cell_type": "code",
   "execution_count": 51,
   "id": "ec63b831-d8ab-4db9-ae1b-6610b0700bf9",
   "metadata": {},
   "outputs": [
    {
     "data": {
      "image/png": "[encoded data removed]",
      "text/plain": [
       "<Figure size 1440x432 with 1 Axes>"
      ]
     },
     "metadata": {
      "needs_background": "light"
     },
     "output_type": "display_data"
    }
   ],
   "source": [
    "plt.figure(figsize=(20,6))\n",
    "plt.hist([len(f.page_content) for f in texts ], bins=100)\n",
    "plt.show()  "
   ]
  },
  {
   "cell_type": "markdown",
   "id": "ad89c14c-a05e-4cbc-9e9d-bb65fe7a36d4",
   "metadata": {},
   "source": [
    "## Create Index"
   ]
  },
  {
   "cell_type": "code",
   "execution_count": 79,
   "id": "62267d2f-2a3f-4db6-bfa0-5fbefbbd131f",
   "metadata": {},
   "outputs": [],
   "source": [
    "persist_directory = './chroma_db_store'\n",
    "\n",
    "embedding = OpenAIEmbeddings()\n",
    "vectordb = Chroma.from_documents(documents=texts, embedding=embedding, persist_directory=persist_directory)"
   ]
  },
  {
   "cell_type": "code",
   "execution_count": 90,
   "id": "9af117b8-c1de-4691-a011-7ff7a5e32dff",
   "metadata": {},
   "outputs": [
    {
     "data": {
      "text/plain": [
       "3304987"
      ]
     },
     "execution_count": 90,
     "metadata": {},
     "output_type": "execute_result"
    }
   ],
   "source": [
    "sum([len(t.page_content.split()) for t in texts])"
   ]
  },
  {
   "cell_type": "code",
   "execution_count": 91,
   "id": "f9a0b439-75f7-4c57-94a3-d20543a300c4",
   "metadata": {},
   "outputs": [
    {
     "data": {
      "application/vnd.jupyter.widget-view+json": {
       "model_id": "fc36d98667fb48e4a575f39fc15c6704",
       "version_major": 2,
       "version_minor": 0
      },
      "text/plain": [
       "FloatProgress(value=0.0, layout=Layout(width='auto'), style=ProgressStyle(bar_color='black'))"
      ]
     },
     "metadata": {},
     "output_type": "display_data"
    }
   ],
   "source": [
    "vectordb.persist()\n",
    "vectordb = None"
   ]
  },
  {
   "cell_type": "markdown",
   "id": "1e8bfff0-1e1e-4cac-be0e-80bda6110699",
   "metadata": {},
   "source": [
    "## Load Local Index"
   ]
  },
  {
   "cell_type": "code",
   "execution_count": 92,
   "id": "90ef615e-ddf4-450f-baf9-af2a28e80370",
   "metadata": {},
   "outputs": [],
   "source": [
    "vectordb = Chroma(persist_directory=persist_directory, embedding_function=embedding)"
   ]
  },
  {
   "cell_type": "markdown",
   "id": "9eb6556a-a3d0-4ee1-a1d8-26ec99f8ad2c",
   "metadata": {},
   "source": [
    "## Similarity Search"
   ]
  },
  {
   "cell_type": "code",
   "execution_count": 103,
   "id": "eb9b47ca-0642-4ca6-b851-cf128da52ba0",
   "metadata": {},
   "outputs": [],
   "source": [
    "docs = vectordb.similarity_search_with_score(\"ibraname ile savunma çelişkili bulunduğu durumda ne yapılır?\")"
   ]
  },
  {
   "cell_type": "code",
   "execution_count": null,
   "id": "f377464c-d739-46ce-ae8c-86ef2dcc6fd4",
   "metadata": {},
   "outputs": [
    {
     "data": {
      "text/plain": [
       "[(Document(page_content='bulunan, imzası inkar edilmeyen ve irade fesadı altında düzenlendiği kanıtlanmayan ibranamenin, savunmayla da çelişmemesi karşısında ibraname geçerli kabul edilerek bu alacakların reddine karar verilmesi gerekirken kabulü isabetsiz olup bozmayı gerektirmiştir.F) Sonuç:Temyiz olunan kararın, yukarıda yazılı sebepten dolayı BOZULMASINA, peşin alınan temyiz harcının istek halinde ilgiliye iadesine 07.02.2013 tarihinde oybirliğiyle karar verildi. **2013/5 2013/5**', metadata={}),\n",
       "  0.3107708692550659),\n",
       " (Document(page_content='sebebinin diğer bir anlatımla iddianın kanıtlanması amacıyla söylendiği, iddia ve savunma sınırları içinde kaldığı anlaşılmış olup davacının kişilik haklarına saldırı olarak değerlendirilmesi mümkün değildir. Bu itibarla davanın reddine karar verilmesi gerekirken yazılı şekilde hüküm kurulması doğru görülmediğinden kararın bozulması gerekmiştir.SONUÇ: Temyiz olunan kararın yukarıda gösterilen nedenlerle BOZULMASINA ve peşin alınan harcın istek halinde geri verilmesine 07.02.2008 gününde oybirliğiyle karar verildi. **2008/3 2008/3**', metadata={}),\n",
       "  0.3190053701400757),\n",
       " (Document(page_content='incelenip karara bağlanması gerekir. Şu durumda davalıların, terekenin borca batık olduğuna ilişkin olarak gösterdikleri tüm kanıtlar toplanıp savunma doğrultusunda değerlendirilerek varılacak sonuca göre bir karar verilmesi gerekir.Yerel mahkemece, açıklanan yönler gözetilmeyerek, eksik inceleme ve yerinde olmayan gerekçeyle yazılı biçimde karar verilmiş olması usul ve yasaya uygun düşmediğinden kararın bozulması gerekmiştir.SONUÇ: Temyiz olunan kararın yukarıda (2) sayılı bentte gösterilen nedenlerle BOZULMASINA; bozma nedenine göre öteki temyiz itirazlarının incelenmesine şimdilik yer olmadığına ve peşin alınan harcın istek halinde geri verilmesine 25.05.2009 gününde oybirliğiyle karar verildi. **2010/1 2010/1**', metadata={}),\n",
       "  0.32995954155921936),\n",
       " (Document(page_content='sebebiyle borcun sona erdiği savunması yapılmıştır. Davacı işçinin ihbar ve kıdem tazminatına hak kazanmadığı savunması yanında ibranameye dayanılması çelişkili bir durumdur. Böyle olunca ibranameye değer verilerek davacının ihbar ve kıdem tazminatı isteklerinin reddine karar verilmesi de hatalı olmuştur. Böyle olunca dosya içinde bulunan bilirkişi raporu bir değerlendirmeye tabi tutularak davaya konu tazminat isteklerinin kabulü gerekirken, mahkemece her iki isteğin de ibraname sebebiyle reddi hatalı olmuştur.SONUÇ: Temyiz olunan kararın yukarıda yazılı sebepten BOZULMASINA, peşin alınan temyiz harcının istek halinde ilgiliye iadesine, 20.10.2009 gününde oybirliğiyle karar verildi **2010/1 2010/1**', metadata={}),\n",
       "  0.33031314611434937)]"
      ]
     },
     "execution_count": 104,
     "metadata": {},
     "output_type": "execute_result"
    }
   ],
   "source": [
    "docs"
   ]
  },
  {
   "cell_type": "markdown",
   "id": "9a96fb90-006f-4f6f-98a2-bb01b4c36505",
   "metadata": {},
   "source": [
    "## Question Answering"
   ]
  },
  {
   "cell_type": "code",
   "execution_count": 146,
   "id": "b8329578-1935-482f-860c-505535ab2588",
   "metadata": {},
   "outputs": [
    {
     "data": {
      "text/plain": [
       "' Dosya içinde bulunan bilirkişi raporu bir değerlendirmeye tabi tutularak davaya konu tazminat isteklerinin kabulü gerekirken, mahkemece her iki isteğin de ibraname sebebiyle reddi hatalı olmuştur.'"
      ]
     },
     "execution_count": 146,
     "metadata": {},
     "output_type": "execute_result"
    }
   ],
   "source": [
    "qa = RetrievalQA.from_chain_type(llm=OpenAI(), chain_type=\"map_reduce\", retriever=vectordb.as_retriever())\n",
    "\n",
    "query = \"ibraname ile savunma çelişkili bulunduğu durumda ne yapılır?\"\n",
    "qa.run(query)"
   ]
  },
  {
   "cell_type": "code",
   "execution_count": 117,
   "id": "31e00c89-6f23-4b2d-88e5-9a30d1b129be",
   "metadata": {},
   "outputs": [
    {
     "data": {
      "text/plain": [
       "' Ibraname değerlendirilerek davaya konu tazminat isteklerinin kabulü gerekir.'"
      ]
     },
     "execution_count": 117,
     "metadata": {},
     "output_type": "execute_result"
    }
   ],
   "source": [
    "qa = RetrievalQA.from_chain_type(llm=OpenAI(), chain_type=\"stuff\", retriever=vectordb.as_retriever())\n",
    "\n",
    "query = \"ibraname ile savunma çelişkili bulunduğu durumda ne yapılır?\"\n",
    "qa.run(query)\n"
   ]
  },
  {
   "cell_type": "code",
   "execution_count": 118,
   "id": "8230a359-deb6-4c82-94e5-c74a000be69e",
   "metadata": {},
   "outputs": [
    {
     "data": {
      "text/plain": [
       "' Hayır, savunma ile çelişen ibranamenin geçersiz olduğu kabul edilmelidir.'"
      ]
     },
     "execution_count": 118,
     "metadata": {},
     "output_type": "execute_result"
    }
   ],
   "source": [
    "qa = RetrievalQA.from_chain_type(llm=OpenAI(), chain_type=\"stuff\", retriever=vectordb.as_retriever())\n",
    "\n",
    "query = \"ibraname ile savunma çelişkili bulunduğu durumda ibraname geçerli midir?\"\n",
    "qa.run(query)\n"
   ]
  },
  {
   "cell_type": "code",
   "execution_count": 120,
   "id": "d6b15cc1-5dc8-451f-ae02-74af2326f5a4",
   "metadata": {},
   "outputs": [
    {
     "data": {
      "text/plain": [
       "' Hayır, çalışan daha fazla ödeme alamaz. Bordroda fazla mesai ödemesi görünüyorsa, çalışanın daha fazla çalışma yaptığını ispatlaması gerekmektedir.'"
      ]
     },
     "execution_count": 120,
     "metadata": {},
     "output_type": "execute_result"
    }
   ],
   "source": [
    "qa = RetrievalQA.from_chain_type(llm=OpenAI(), chain_type=\"stuff\", retriever=vectordb.as_retriever())\n",
    "\n",
    "query = \"Bordroda fazla mesai ödemesi görünüyor. Çalışan bordroyu bu şekilde imzalamış Fakat ödemeler eksik. Çalışan daha fazla ödeme alabilir mi? Kısa yanıt istiyorum.\"\n",
    "qa.run(query)\n"
   ]
  },
  {
   "cell_type": "code",
   "execution_count": 123,
   "id": "dbcc8123-614d-4f88-835a-62fbf1a4cf04",
   "metadata": {},
   "outputs": [
    {
     "data": {
      "text/plain": [
       "' İmzalı ücret bordrolarında fazla çalışma ücreti ödendiği anlaşılıyorsa, işçi tarafından gerekçe daha fazla çalışma yaptığının ileri sürülmesi mümkün değildir. Ancak, işçinin fazla çalışma alacağının daha fazla olduğu yönündeki ihtirazi kaydının bulunması halinde, bordroda görünenden daha fazla çalışmanın ispatı her türlü delille söz konusu olabilir.'"
      ]
     },
     "execution_count": 123,
     "metadata": {},
     "output_type": "execute_result"
    }
   ],
   "source": [
    "qa = RetrievalQA.from_chain_type(llm=OpenAI(), chain_type=\"stuff\", retriever=vectordb.as_retriever())\n",
    "\n",
    "query = \"Bordroda fazla mesai ödemesi görünmüyor. Çalışan bordroyu bu şekilde imzalamış. Çalışan fazla mesai ödemesi talebinde bulunabilir mi?\"\n",
    "qa.run(query)"
   ]
  },
  {
   "cell_type": "code",
   "execution_count": 144,
   "id": "5cb19c37-90fb-4e40-825b-59f20797a635",
   "metadata": {},
   "outputs": [
    {
     "data": {
      "text/plain": [
       "' Çalışanın bordroda gösterilenden daha fazla çalışma yaptığını yazılı delille kanıtlaması gerekir. Bordroda imzalı ve ihtirazi kayıtsız olması durumunda, çalışanın her ay değişik miktarlarda ücret ödemelerinin banka kanalıyla yapılması durumunda, ihtirazi kayıt ileri sürülmemiş olması, ödenenin üzerinde fazla çalışma yapıldığının yazılı delille ispatlanması gerektiği sonucunu doğurmaktadır.'"
      ]
     },
     "execution_count": 144,
     "metadata": {},
     "output_type": "execute_result"
    }
   ],
   "source": [
    "qa = RetrievalQA.from_chain_type(llm=OpenAI(), chain_type=\"stuff\", retriever=vectordb.as_retriever())\n",
    "\n",
    "query = \"Bordroda fazla mesai ödemesi görünmüyor. Çalışan bordroyu bu şekilde imzalamış. Çalışan fazla mesai ödemesi talebinde bulunabilir mi?\"\n",
    "qa.run(query)"
   ]
  },
  {
   "cell_type": "code",
   "execution_count": 141,
   "id": "00f96f1e-02a3-4945-bcb0-15223130ff5e",
   "metadata": {},
   "outputs": [
    {
     "data": {
      "text/plain": [
       "' Evet, fazla mesai ödemesi istenebilir. Ancak, fazla mesai yapıldığının ve hafta tatillerinde çalışıldığının somut ve net olarak ispatlanması gerekir. Bu konuda varsayıma dayanılarak hüküm kurulamaz. Dosyada bulunan imzalı bordrolara karşı davacının itirazı bulunmuyorsa, bordrolara karşı davacının itirazı bulunmuyorsa, bordrolardaki ücretlere itibar edilerek işçilik hakları hesaplanmalıdır.'"
      ]
     },
     "execution_count": 141,
     "metadata": {},
     "output_type": "execute_result"
    }
   ],
   "source": [
    "qa = RetrievalQA.from_chain_type(llm=OpenAI(), chain_type=\"stuff\", retriever=vectordb.as_retriever())\n",
    "\n",
    "query = \"Bordroda fazla mesai ödemesi yok. Fazla mesai ödemesi istenebilir mi?\"\n",
    "qa.run(query)"
   ]
  }
 ],
 "metadata": {
  "kernelspec": {
   "display_name": "Python 3 (ipykernel)",
   "language": "python",
   "name": "python3"
  },
  "language_info": {
   "codemirror_mode": {
    "name": "ipython",
    "version": 3
   },
   "file_extension": ".py",
   "mimetype": "text/x-python",
   "name": "python",
   "nbconvert_exporter": "python",
   "pygments_lexer": "ipython3",
   "version": "3.8.10"
  }
 },
 "nbformat": 4,
 "nbformat_minor": 5
}
